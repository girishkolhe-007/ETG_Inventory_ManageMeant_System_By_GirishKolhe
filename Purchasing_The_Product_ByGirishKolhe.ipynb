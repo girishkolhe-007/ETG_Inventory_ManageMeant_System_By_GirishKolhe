{
 "cells": [
  {
   "cell_type": "markdown",
   "id": "fd44c760",
   "metadata": {},
   "source": [
    "# IMPORTING REQUIRED MODULES"
   ]
  },
  {
   "cell_type": "code",
   "execution_count": 9,
   "id": "c2fd4ef3",
   "metadata": {},
   "outputs": [],
   "source": [
    "import json as js\n",
    "import random as r\n",
    "import time"
   ]
  },
  {
   "cell_type": "code",
   "execution_count": 10,
   "id": "29eebb7f",
   "metadata": {},
   "outputs": [
    {
     "name": "stdout",
     "output_type": "stream",
     "text": [
      "Requirement already satisfied: prettytable in c:\\users\\girish_armour_e14\\appdata\\local\\programs\\python\\python39\\lib\\site-packages (2.2.0)\n",
      "Requirement already satisfied: wcwidth in c:\\users\\girish_armour_e14\\appdata\\local\\programs\\python\\python39\\lib\\site-packages (from prettytable) (0.2.5)\n"
     ]
    },
    {
     "name": "stderr",
     "output_type": "stream",
     "text": [
      "WARNING: You are using pip version 21.1.3; however, version 21.2.4 is available.\n",
      "You should consider upgrading via the 'c:\\users\\girish_armour_e14\\appdata\\local\\programs\\python\\python39\\python.exe -m pip install --upgrade pip' command.\n"
     ]
    }
   ],
   "source": [
    "!pip install prettytable\n",
    "from prettytable import PrettyTable as pt"
   ]
  },
  {
   "cell_type": "markdown",
   "id": "52d0d511",
   "metadata": {},
   "source": [
    "# OPENING RECORD INVENTORY FILE"
   ]
  },
  {
   "cell_type": "code",
   "execution_count": 11,
   "id": "ca5e6120",
   "metadata": {},
   "outputs": [],
   "source": [
    "file = open(\"record.json\",\"r\")\n",
    "txt= file.read()\n",
    "file.close()"
   ]
  },
  {
   "cell_type": "markdown",
   "id": "a322c40a",
   "metadata": {},
   "source": [
    "# CONVERTING IT TO DICTIONARY"
   ]
  },
  {
   "cell_type": "code",
   "execution_count": 12,
   "id": "e4c99fb1",
   "metadata": {},
   "outputs": [
    {
     "name": "stdout",
     "output_type": "stream",
     "text": [
      "Product UID: 1120770 => Product Details {'name': 'Kurkure', 'type': 'chips', 'price': 20, 'quantity': 500, 'weightinGM': 40}\n",
      "Product UID: 1120771 => Product Details {'name': 'Perk', 'type': 'chocolate', 'price': 5, 'quantity': 1000, 'weightinGM': 200}\n",
      "Product UID: 1120772 => Product Details {'name': 'Tatatea', 'type': 'tea', 'price': 50, 'quantity': 400, 'weightinGM': 500}\n",
      "Product UID: 1120773 => Product Details {'name': 'RedLabel', 'type': 'tea', 'price': 90, 'quantity': 932, 'weightinGM': 240}\n",
      "Product UID: 1120774 => Product Details {'name': 'Bourbon', 'type': 'Biscuit', 'price': 30, 'quantity': 450, 'weightinGM': 10}\n",
      "Product UID: 1120775 => Product Details {'name': 'ParleG', 'type': 'Biscuit', 'price': 10, 'quantity': 300, 'weightinGM': 100}\n",
      "Product UID: 1120776 => Product Details {'name': 'Oreo', 'type': 'Biscuit', 'price': 50, 'quantity': 230, 'weightinGM': 150}\n",
      "Product UID: 1120777 => Product Details {'name': 'Hide&Seek', 'type': 'Biscuit', 'price': 30, 'quantity': 540, 'weightinGM': 100}\n",
      "Product UID: 1120778 => Product Details {'name': 'HappyHappy', 'type': 'Biscuit', 'price': 20, 'quantity': 140, 'weightinGM': 50}\n",
      "Product UID: 1120779 => Product Details {'name': 'DairyMilkSilk', 'type': 'chocolate', 'price': 100, 'quantity': 100, 'weightinGM': 500}\n",
      "Product UID: 1120780 => Product Details {'name': 'KitKat', 'type': 'chocolate', 'price': 40, 'quantity': 80, 'weightinGM': 300}\n",
      "Product UID: 1120781 => Product Details {'name': '5Star', 'type': 'chocolate', 'price': 20, 'quantity': 108, 'weightinGM': 140}\n",
      "Product UID: 1120782 => Product Details {'name': 'Gems', 'type': 'chocolate', 'price': 10, 'quantity': 196, 'weightinGM': 80}\n",
      "Product UID: 1120783 => Product Details {'name': 'balajiOnion', 'type': 'chips', 'price': 30, 'quantity': 480, 'weightinGM': 240}\n",
      "Product UID: 1120784 => Product Details {'name': 'laysSpices', 'type': 'chips', 'price': 40, 'quantity': 340, 'weightinGM': 140}\n",
      "Product UID: 1120785 => Product Details {'name': 'CocaCola', 'type': 'coldDrinks', 'price': 50, 'quantity': 140, 'weightinGM': 1000}\n",
      "Product UID: 1120786 => Product Details {'name': 'Maza', 'type': 'coldDrinks', 'price': 20, 'quantity': 340, 'weightinGM': 500}\n",
      "Product UID: 1120787 => Product Details {'name': 'Sprit', 'type': 'coldDrinks', 'price': 30, 'quantity': 240, 'weightinGM': 250}\n",
      "Product UID: 1120788 => Product Details {'name': 'pepssi', 'type': 'coldDrinks', 'price': 50, 'quantity': 440, 'weightinGM': 200}\n",
      "Product UID: 1120789 => Product Details {'name': 'Colgate', 'type': 'paste', 'price': 50, 'quantity': 640, 'weightinGM': 140}\n",
      "Product UID: 1120790 => Product Details {'name': 'Pepsudent', 'type': 'paste', 'price': 30, 'quantity': 220, 'weightinGM': 140}\n",
      "Product UID: 1120791 => Product Details {'name': 'Wheel', 'type': 'soap', 'price': 5, 'quantity': 1200, 'weightinGM': 100}\n",
      "Product UID: 1120792 => Product Details {'name': 'Vim', 'type': 'soap', 'price': 10, 'quantity': 598, 'weightinGM': 250}\n",
      "Product UID: 1120793 => Product Details {'name': 'Dettol', 'type': 'soap', 'price': 20, 'quantity': 480, 'weightinGM': 200}\n",
      "Product UID: 1120794 => Product Details {'name': 'Fogg', 'type': 'perfume', 'price': 120, 'quantity': 2340, 'weightinGM': 250}\n",
      "Product UID: 1120795 => Product Details {'name': 'Denver', 'type': 'perfume', 'price': 100, 'quantity': 340, 'weightinGM': 250}\n",
      "Product UID: 1120796 => Product Details {'name': 'spark', 'type': 'perfume', 'price': 100, 'quantity': 740, 'weightinGM': 250}\n",
      "Product UID: 1120797 => Product Details {'name': 'Stylo', 'type': 'pen', 'price': 10, 'quantity': 1237, 'weightinGM': 30}\n",
      "Product UID: 1120798 => Product Details {'name': 'Nattaraj', 'type': 'pen', 'price': 10, 'quantity': 437, 'weightinGM': 20}\n",
      "Product UID: 1120799 => Product Details {'name': 'Apasra', 'type': 'pencil', 'price': 7, 'quantity': 640, 'weightinGM': 30}\n",
      "Product UID: 11207100 => Product Details {'name': 'HBO', 'type': 'pencil', 'price': 10, 'quantity': 130, 'weightinGM': 15}\n",
      "Product UID: 11207101 => Product Details {'name': 'Doom', 'type': 'pencil', 'price': 10, 'quantity': 200, 'weightinGM': 10}\n"
     ]
    }
   ],
   "source": [
    "record = js.loads(txt)\n",
    "for k,v in record.items():\n",
    "    print(\"Product UID: {} => Product Details {}\".format(k,v))"
   ]
  },
  {
   "cell_type": "markdown",
   "id": "936c0c71",
   "metadata": {},
   "source": [
    "# Placing Order"
   ]
  },
  {
   "cell_type": "code",
   "execution_count": 16,
   "id": "4d13ace0",
   "metadata": {},
   "outputs": [
    {
     "name": "stdout",
     "output_type": "stream",
     "text": [
      "\n",
      "In the product ID Details\n",
      "enter => quit   (to exit the Shopping)\n",
      "enter => showlist (to display the list of shopping)\n",
      "enter specified uid given in the list ave to add product to the cart\n",
      "\n",
      "Enter the product id or (press 'quit' to end shopping): 123456\n",
      "No such items\n",
      "Enter the product id or (press 'quit' to end shopping): 1120789\n",
      "Item choosen: {'name': 'Colgate', 'type': 'paste', 'price': 50, 'quantity': 634, 'weightinGM': 140}\n",
      "Enter the Quantity: 3\n",
      "Enter the product id or (press 'quit' to end shopping): 1120788\n",
      "Item choosen: {'name': 'pepssi', 'type': 'coldDrinks', 'price': 50, 'quantity': 440, 'weightinGM': 200}\n",
      "Enter the Quantity: 6\n",
      "Enter the product id or (press 'quit' to end shopping): showlist\n",
      "Current list of product added:  ['Colgate', 'pepssi']\n",
      "Enter the product id or (press 'quit' to end shopping): 1120777\n",
      "Item choosen: {'name': 'Hide&Seek', 'type': 'Biscuit', 'price': 30, 'quantity': 540, 'weightinGM': 100}\n",
      "Enter the Quantity: 6\n",
      "Enter the product id or (press 'quit' to end shopping): 1120779\n",
      "Item choosen: {'name': 'DairyMilkSilk', 'type': 'chocolate', 'price': 100, 'quantity': 100, 'weightinGM': 500}\n",
      "Enter the Quantity: 7\n",
      "Enter the product id or (press 'quit' to end shopping): showlist\n",
      "Current list of product added:  ['Colgate', 'pepssi', 'Hide&Seek', 'DairyMilkSilk']\n",
      "Enter the product id or (press 'quit' to end shopping): quit\n"
     ]
    }
   ],
   "source": [
    "inst = \"\"\"\n",
    "In the product ID Details\n",
    "enter => quit   (to exit the Shopping)\n",
    "enter => showlist (to display the list of shopping)\n",
    "enter specified uid given in the list ave to add product to the cart\n",
    "\"\"\"\n",
    "print(inst)\n",
    "product_purchased = [] #To store items that are purchased\n",
    "product_price = []\n",
    "product_quanity =[]\n",
    "amount = 0\n",
    "quantity_total = 0\n",
    "while True:\n",
    "    item = input(\"Enter the product id or (press 'quit' to end shopping): \")\n",
    "    if item != \"quit\":\n",
    "        if item.isnumeric():\n",
    "            try:\n",
    "                print(\"Item choosen: {}\".format(record[item]))\n",
    "                qua = int(input(\"Enter the Quantity: \"))\n",
    "            except:\n",
    "                print(\"No such items\")\n",
    "                continue\n",
    "        else:\n",
    "            if item !=\"showlist\":\n",
    "                print(\"No such items\")\n",
    "    if item == \"quit\":\n",
    "        break\n",
    "    elif item ==\"showlist\":\n",
    "        print(\"Current list of product added: \",product_purchased)\n",
    "    elif item.isnumeric() and record[item][\"quantity\"] < qua:\n",
    "        print(\"This items is Out of Stock!!\")\n",
    "        print(\"Please Try Another Product\")\n",
    "        continue\n",
    "    elif item.isnumeric():\n",
    "        x = record[item]\n",
    "        quantity_total += qua\n",
    "        for k,v in x.items():\n",
    "            if k == \"name\":\n",
    "                product_purchased.append(v)\n",
    "            elif k == \"price\":\n",
    "                amount += (v * qua)\n",
    "                product_price.append(v)\n",
    "            elif k == \"quantity\":\n",
    "                record[item][\"quantity\"] = record[item][\"quantity\"] - qua\n",
    "                product_quanity.append(qua)\n",
    "            else:\n",
    "                continue\n",
    "    \n",
    "    else:\n",
    "        continue"
   ]
  },
  {
   "cell_type": "markdown",
   "id": "058d50a0",
   "metadata": {},
   "source": [
    "# GENERATING RECEIPT AND GIVING DISCOUNT"
   ]
  },
  {
   "cell_type": "code",
   "execution_count": 18,
   "id": "bce60d3c",
   "metadata": {},
   "outputs": [
    {
     "name": "stdout",
     "output_type": "stream",
     "text": [
      "Please Enter Your Name: Vijay Sanu\n",
      "\t--Receipt--\n",
      "--------------------------------------------\n",
      "Name => 'Vijay Sanu' \t\t Date => Sun Sep  5 21:11:09 2021\n",
      "--------------------------------------------\n",
      "+-------+---------------+------------------+--------------------------+\n",
      "| SR.No |  Product name | Product Quantity | Product Price(GST Inc) ₹ |\n",
      "+-------+---------------+------------------+--------------------------+\n",
      "|   1   |    Colgate    |        3         |            50            |\n",
      "|   2   |     pepssi    |        6         |            50            |\n",
      "|   3   |   Hide&Seek   |        6         |            30            |\n",
      "|   4   | DairyMilkSilk |        7         |           100            |\n",
      "+-------+---------------+------------------+--------------------------+\n",
      "********************************************\n",
      "Total amount(InRupee):\t\t₹ 1077.3\n",
      "You got 10% and saving:\t\t₹ 119.7\n",
      "Thank You Come Again :)\n",
      "********************************************\n"
     ]
    }
   ],
   "source": [
    "#receipt\n",
    "seconds = time.time()\n",
    "local_time = time.ctime(seconds)\n",
    "name_buyer = input(\"Please Enter Your Name: \")\n",
    "rupee = u\"\\u20B9\"\n",
    "table = pt([\"SR.No\",\"Product name\",\"Product Quantity\",\"Product Price(GST Inc) \"+rupee])\n",
    "print(\"\\t--Receipt--\")\n",
    "print(\"--------------------------------------------\")\n",
    "print(\"Name => '{}' \\t\\t Date => {}\".format(name_buyer,local_time))\n",
    "#print(\"Product name\\t|Product Quantity\\t|Product Price(GST Inc)\")\n",
    "for i in range(len(product_purchased)):\n",
    "    #print(\"--------------------------------------------\")\n",
    "    #print(\"{}\\t\\t| {}\\t\\t | {} {} per item\".format(product_purchased[i],product_quanity[i],product_price[i],rupee))\n",
    "    table.add_row([i+1,product_purchased[i],product_quanity[i],product_price[i]])\n",
    "\n",
    "print(table)\n",
    "print(\"********************************************\")\n",
    "if amount >=1000 and amount <= 5000:\n",
    "    d = \"10%\"\n",
    "    discount = (amount * 0.10) #10% discount\n",
    "    amount-= discount\n",
    "elif amount > 5000:\n",
    "    d = \"15%\"\n",
    "    discount = (amount * 0.15) #15% discount\n",
    "    amount-= discount\n",
    "else:\n",
    "    d = \"0%\"\n",
    "    discount = 0\n",
    "print(\"Total amount(InRupee):\\t\\t{} {}\".format(rupee,amount))\n",
    "print(\"You got {} discount and saving:\\t\\t{} {}\".format(d,rupee,discount))\n",
    "print(\"Thank You Come Again :)\")\n",
    "print(\"********************************************\")"
   ]
  },
  {
   "cell_type": "markdown",
   "id": "52c6be6c",
   "metadata": {},
   "source": [
    "# updating the record file"
   ]
  },
  {
   "cell_type": "code",
   "execution_count": 19,
   "id": "1df6ebb6",
   "metadata": {},
   "outputs": [
    {
     "name": "stdout",
     "output_type": "stream",
     "text": [
      "Report Updated successfully\n"
     ]
    }
   ],
   "source": [
    "jsup = js.dumps(record)\n",
    "file2 = open(\"record.json\",\"w\")\n",
    "rr = file2.write(jsup)\n",
    "print(\"Report Updated successfully\")\n",
    "file2.close()"
   ]
  },
  {
   "cell_type": "markdown",
   "id": "c5d81057",
   "metadata": {},
   "source": [
    "# CREATING UID FOR EACH CUSTOMER"
   ]
  },
  {
   "cell_type": "code",
   "execution_count": 20,
   "id": "d1d9b632",
   "metadata": {},
   "outputs": [],
   "source": [
    "#Sales Report\n",
    "seconds = time.time()\n",
    "local_time = time.ctime(seconds)\n",
    "ui_d =\"\"\n",
    "#generating unique uids\n",
    "for i in range(3):\n",
    "    ui_d += str(r.randint(1,999))\n",
    "name_lis=name_buyer.split(\" \")\n",
    "uids = \"\".join(name_lis) + ui_d\n",
    "sales_report = {uids:{\"name\":name_buyer,\"product_purchased\":product_purchased,\"time\": local_time , \"amount\":amount,\"quantity\":sum(product_quanity)}}"
   ]
  },
  {
   "cell_type": "markdown",
   "id": "f5aff569",
   "metadata": {},
   "source": [
    "# opening sales files and reading"
   ]
  },
  {
   "cell_type": "code",
   "execution_count": 21,
   "id": "91c8af62",
   "metadata": {},
   "outputs": [],
   "source": [
    "file3 =open(\"sales.json\",\"r\")\n",
    "s = file3.read()\n",
    "s=s.replace(\"'\", '\"').replace(\"True\", '\"True\"').replace(\"False\", '\"False\"').replace(\"null\", '\"null\"')\n",
    "file3.close()"
   ]
  },
  {
   "cell_type": "markdown",
   "id": "d22973fa",
   "metadata": {},
   "source": [
    "# Adding Sales Report Of Each Customer"
   ]
  },
  {
   "cell_type": "code",
   "execution_count": 22,
   "id": "e96242c5",
   "metadata": {},
   "outputs": [],
   "source": [
    "sales = js.loads(s)\n",
    "sales.update(sales_report)"
   ]
  },
  {
   "cell_type": "markdown",
   "id": "b78b5d96",
   "metadata": {},
   "source": [
    "# Updating The Sales File"
   ]
  },
  {
   "cell_type": "code",
   "execution_count": 23,
   "id": "5bd9df9a",
   "metadata": {},
   "outputs": [
    {
     "name": "stdout",
     "output_type": "stream",
     "text": [
      "Current file status =>  {'GirishKolhe68670234': {'name': 'Girish Kolhe', 'product_purchased': ['Vim', 'RedLabel'], 'time': 'Thu Sep  2 13:40:51 2021', 'amount': 290, 'quantity': 5}, 'VijaySanu826595111': {'name': 'Vijay Sanu', 'product_purchased': ['Colgate', 'pepssi', 'Hide&Seek', 'DairyMilkSilk'], 'time': 'Sun Sep  5 21:14:37 2021', 'amount': 1077.3, 'quantity': 22}}\n"
     ]
    }
   ],
   "source": [
    "file4 = open(\"sales.json\",\"w\")\n",
    "wre = file4.write(str(sales))\n",
    "file4.close()\n",
    "file5 = open(\"sales.json\",\"r\")\n",
    "rea = file5.read()\n",
    "print(\"Current file status => \",rea)\n",
    "file5.close()"
   ]
  },
  {
   "cell_type": "markdown",
   "id": "ae099c4c",
   "metadata": {},
   "source": [
    "# Thank You"
   ]
  }
 ],
 "metadata": {
  "kernelspec": {
   "display_name": "Python 3 (ipykernel)",
   "language": "python",
   "name": "python3"
  },
  "language_info": {
   "codemirror_mode": {
    "name": "ipython",
    "version": 3
   },
   "file_extension": ".py",
   "mimetype": "text/x-python",
   "name": "python",
   "nbconvert_exporter": "python",
   "pygments_lexer": "ipython3",
   "version": "3.9.1"
  }
 },
 "nbformat": 4,
 "nbformat_minor": 5
}
