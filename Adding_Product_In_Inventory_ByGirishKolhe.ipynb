{
 "cells": [
  {
   "cell_type": "markdown",
   "id": "38dccbd6",
   "metadata": {},
   "source": [
    "# IMPORTING MODULES"
   ]
  },
  {
   "cell_type": "code",
   "execution_count": 1,
   "id": "a339e460",
   "metadata": {},
   "outputs": [],
   "source": [
    "import json as js"
   ]
  },
  {
   "cell_type": "markdown",
   "id": "161a5a9f",
   "metadata": {},
   "source": [
    "# Openning The Old Inventory"
   ]
  },
  {
   "cell_type": "code",
   "execution_count": 2,
   "id": "c09c3436",
   "metadata": {},
   "outputs": [
    {
     "name": "stdout",
     "output_type": "stream",
     "text": [
      "Product UID: 1120770 => Product Details {'name': 'Kurkure', 'type': 'chips', 'price': 20, 'quantity': 500, 'weightinGM': 40}\n",
      "Product UID: 1120771 => Product Details {'name': 'Perk', 'type': 'chocolate', 'price': 5, 'quantity': 1000, 'weightinGM': 200}\n",
      "Product UID: 1120772 => Product Details {'name': 'Tatatea', 'type': 'tea', 'price': 50, 'quantity': 400, 'weightinGM': 500}\n",
      "Product UID: 1120773 => Product Details {'name': 'RedLabel', 'type': 'tea', 'price': 90, 'quantity': 932, 'weightinGM': 240}\n",
      "Product UID: 1120774 => Product Details {'name': 'Bourbon', 'type': 'Biscuit', 'price': 30, 'quantity': 450, 'weightinGM': 10}\n",
      "Product UID: 1120775 => Product Details {'name': 'ParleG', 'type': 'Biscuit', 'price': 10, 'quantity': 300, 'weightinGM': 100}\n",
      "Product UID: 1120776 => Product Details {'name': 'Oreo', 'type': 'Biscuit', 'price': 50, 'quantity': 230, 'weightinGM': 150}\n",
      "Product UID: 1120777 => Product Details {'name': 'Hide&Seek', 'type': 'Biscuit', 'price': 30, 'quantity': 534, 'weightinGM': 100}\n",
      "Product UID: 1120778 => Product Details {'name': 'HappyHappy', 'type': 'Biscuit', 'price': 20, 'quantity': 137, 'weightinGM': 50}\n",
      "Product UID: 1120779 => Product Details {'name': 'DairyMilkSilk', 'type': 'chocolate', 'price': 100, 'quantity': 93, 'weightinGM': 500}\n",
      "Product UID: 1120780 => Product Details {'name': 'KitKat', 'type': 'chocolate', 'price': 40, 'quantity': 80, 'weightinGM': 300}\n",
      "Product UID: 1120781 => Product Details {'name': '5Star', 'type': 'chocolate', 'price': 20, 'quantity': 108, 'weightinGM': 140}\n",
      "Product UID: 1120782 => Product Details {'name': 'Gems', 'type': 'chocolate', 'price': 10, 'quantity': 192, 'weightinGM': 80}\n",
      "Product UID: 1120783 => Product Details {'name': 'balajiOnion', 'type': 'chips', 'price': 30, 'quantity': 480, 'weightinGM': 240}\n",
      "Product UID: 1120784 => Product Details {'name': 'laysSpices', 'type': 'chips', 'price': 40, 'quantity': 340, 'weightinGM': 140}\n",
      "Product UID: 1120785 => Product Details {'name': 'CocaCola', 'type': 'coldDrinks', 'price': 50, 'quantity': 140, 'weightinGM': 1000}\n",
      "Product UID: 1120786 => Product Details {'name': 'Maza', 'type': 'coldDrinks', 'price': 20, 'quantity': 340, 'weightinGM': 500}\n",
      "Product UID: 1120787 => Product Details {'name': 'Sprit', 'type': 'coldDrinks', 'price': 30, 'quantity': 240, 'weightinGM': 250}\n",
      "Product UID: 1120788 => Product Details {'name': 'pepssi', 'type': 'coldDrinks', 'price': 50, 'quantity': 434, 'weightinGM': 200}\n",
      "Product UID: 1120789 => Product Details {'name': 'Colgate', 'type': 'paste', 'price': 50, 'quantity': 631, 'weightinGM': 140}\n",
      "Product UID: 1120790 => Product Details {'name': 'Pepsudent', 'type': 'paste', 'price': 30, 'quantity': 220, 'weightinGM': 140}\n",
      "Product UID: 1120791 => Product Details {'name': 'Wheel', 'type': 'soap', 'price': 5, 'quantity': 1200, 'weightinGM': 100}\n",
      "Product UID: 1120792 => Product Details {'name': 'Vim', 'type': 'soap', 'price': 10, 'quantity': 598, 'weightinGM': 250}\n",
      "Product UID: 1120793 => Product Details {'name': 'Dettol', 'type': 'soap', 'price': 20, 'quantity': 480, 'weightinGM': 200}\n",
      "Product UID: 1120794 => Product Details {'name': 'Fogg', 'type': 'perfume', 'price': 120, 'quantity': 2340, 'weightinGM': 250}\n",
      "Product UID: 1120795 => Product Details {'name': 'Denver', 'type': 'perfume', 'price': 100, 'quantity': 340, 'weightinGM': 250}\n",
      "Product UID: 1120796 => Product Details {'name': 'spark', 'type': 'perfume', 'price': 100, 'quantity': 740, 'weightinGM': 250}\n",
      "Product UID: 1120797 => Product Details {'name': 'Stylo', 'type': 'pen', 'price': 10, 'quantity': 1237, 'weightinGM': 30}\n",
      "Product UID: 1120798 => Product Details {'name': 'Nattaraj', 'type': 'pen', 'price': 10, 'quantity': 437, 'weightinGM': 20}\n",
      "Product UID: 1120799 => Product Details {'name': 'Apasra', 'type': 'pencil', 'price': 7, 'quantity': 640, 'weightinGM': 30}\n",
      "Product UID: 11207100 => Product Details {'name': 'HBO', 'type': 'pencil', 'price': 10, 'quantity': 130, 'weightinGM': 15}\n",
      "Product UID: 11207101 => Product Details {'name': 'Doom', 'type': 'pencil', 'price': 10, 'quantity': 200, 'weightinGM': 10}\n",
      "\n",
      "Total Number of product:  32\n"
     ]
    }
   ],
   "source": [
    "f1 = open(\"record.json\",\"r\")\n",
    "txt= f1.read()\n",
    "f1.close()\n",
    "record = js.loads(txt)\n",
    "for k,v in record.items():\n",
    "    print(\"Product UID: {} => Product Details {}\".format(k,v))\n",
    "print(\"\\nTotal Number of product: \",len(record))"
   ]
  },
  {
   "cell_type": "markdown",
   "id": "1498d1a1",
   "metadata": {},
   "source": [
    "# Adding new product in the record or Updtaing the old inventory"
   ]
  },
  {
   "cell_type": "code",
   "execution_count": 7,
   "id": "cf449ce5",
   "metadata": {},
   "outputs": [
    {
     "name": "stdout",
     "output_type": "stream",
     "text": [
      "Enter product ID(New or Old): 1120779\n",
      "Enter product name(New or Old): DairyMilkSilk\n",
      "Enter product type: chocolate\n",
      "Enter product quantity(*replaces previous quantity*): 400\n",
      "Enter product price: 120\n",
      "Enter product weigth: 210\n"
     ]
    }
   ],
   "source": [
    "product_id = input('Enter product ID(New or Old): ')\n",
    "product_name = input('Enter product name(New or Old): ')\n",
    "types = input('Enter product type: ')\n",
    "quantity = int(input('Enter product quantity(*replaces previous quantity*): '))\n",
    "price = int(input('Enter product price: '))\n",
    "weightinGM = int(input('Enter product weigth: '))\n",
    "y = {product_id:{'name':product_name,'type':types,'price':price,'quantity':quantity,'weightinGM':weightinGM}}\n",
    "record.update(y)"
   ]
  },
  {
   "cell_type": "markdown",
   "id": "ad268a51",
   "metadata": {},
   "source": [
    "# Updating the inventory file"
   ]
  },
  {
   "cell_type": "code",
   "execution_count": 8,
   "id": "01f3a4cb",
   "metadata": {},
   "outputs": [
    {
     "name": "stdout",
     "output_type": "stream",
     "text": [
      "Report Updated successfully\n"
     ]
    }
   ],
   "source": [
    "jsup = js.dumps(record)\n",
    "f2 = open(\"record.json\",\"w\")\n",
    "xw = f2.write(jsup)\n",
    "print(\"Report Updated successfully\")\n",
    "f2.close()"
   ]
  },
  {
   "cell_type": "markdown",
   "id": "4fb1840d",
   "metadata": {},
   "source": [
    "# Checking the updated inventory"
   ]
  },
  {
   "cell_type": "code",
   "execution_count": 10,
   "id": "b0da0509",
   "metadata": {},
   "outputs": [
    {
     "name": "stdout",
     "output_type": "stream",
     "text": [
      "Product UID: 1120770 => Product Details {'name': 'Kurkure', 'type': 'chips', 'price': 20, 'quantity': 500, 'weightinGM': 40}\n",
      "Product UID: 1120771 => Product Details {'name': 'Perk', 'type': 'chocolate', 'price': 5, 'quantity': 1000, 'weightinGM': 200}\n",
      "Product UID: 1120772 => Product Details {'name': 'Tatatea', 'type': 'tea', 'price': 50, 'quantity': 400, 'weightinGM': 500}\n",
      "Product UID: 1120773 => Product Details {'name': 'RedLabel', 'type': 'tea', 'price': 90, 'quantity': 932, 'weightinGM': 240}\n",
      "Product UID: 1120774 => Product Details {'name': 'Bourbon', 'type': 'Biscuit', 'price': 30, 'quantity': 450, 'weightinGM': 10}\n",
      "Product UID: 1120775 => Product Details {'name': 'ParleG', 'type': 'Biscuit', 'price': 10, 'quantity': 300, 'weightinGM': 100}\n",
      "Product UID: 1120776 => Product Details {'name': 'Oreo', 'type': 'Biscuit', 'price': 50, 'quantity': 230, 'weightinGM': 150}\n",
      "Product UID: 1120777 => Product Details {'name': 'Hide&Seek', 'type': 'Biscuit', 'price': 30, 'quantity': 534, 'weightinGM': 100}\n",
      "Product UID: 1120778 => Product Details {'name': 'HappyHappy', 'type': 'Biscuit', 'price': 20, 'quantity': 137, 'weightinGM': 50}\n",
      "Product UID: 1120779 => Product Details {'name': 'DairyMilkSilk', 'type': 'chocolate', 'price': 120, 'quantity': 400, 'weightinGM': 210}\n",
      "Product UID: 1120780 => Product Details {'name': 'KitKat', 'type': 'chocolate', 'price': 40, 'quantity': 80, 'weightinGM': 300}\n",
      "Product UID: 1120781 => Product Details {'name': '5Star', 'type': 'chocolate', 'price': 20, 'quantity': 108, 'weightinGM': 140}\n",
      "Product UID: 1120782 => Product Details {'name': 'Gems', 'type': 'chocolate', 'price': 10, 'quantity': 192, 'weightinGM': 80}\n",
      "Product UID: 1120783 => Product Details {'name': 'balajiOnion', 'type': 'chips', 'price': 30, 'quantity': 480, 'weightinGM': 240}\n",
      "Product UID: 1120784 => Product Details {'name': 'laysSpices', 'type': 'chips', 'price': 40, 'quantity': 340, 'weightinGM': 140}\n",
      "Product UID: 1120785 => Product Details {'name': 'CocaCola', 'type': 'coldDrinks', 'price': 50, 'quantity': 140, 'weightinGM': 1000}\n",
      "Product UID: 1120786 => Product Details {'name': 'Maza', 'type': 'coldDrinks', 'price': 20, 'quantity': 340, 'weightinGM': 500}\n",
      "Product UID: 1120787 => Product Details {'name': 'Sprit', 'type': 'coldDrinks', 'price': 30, 'quantity': 240, 'weightinGM': 250}\n",
      "Product UID: 1120788 => Product Details {'name': 'pepssi', 'type': 'coldDrinks', 'price': 50, 'quantity': 434, 'weightinGM': 200}\n",
      "Product UID: 1120789 => Product Details {'name': 'Colgate', 'type': 'paste', 'price': 50, 'quantity': 631, 'weightinGM': 140}\n",
      "Product UID: 1120790 => Product Details {'name': 'Pepsudent', 'type': 'paste', 'price': 30, 'quantity': 220, 'weightinGM': 140}\n",
      "Product UID: 1120791 => Product Details {'name': 'Wheel', 'type': 'soap', 'price': 5, 'quantity': 1200, 'weightinGM': 100}\n",
      "Product UID: 1120792 => Product Details {'name': 'Vim', 'type': 'soap', 'price': 10, 'quantity': 598, 'weightinGM': 250}\n",
      "Product UID: 1120793 => Product Details {'name': 'Dettol', 'type': 'soap', 'price': 20, 'quantity': 480, 'weightinGM': 200}\n",
      "Product UID: 1120794 => Product Details {'name': 'Fogg', 'type': 'perfume', 'price': 120, 'quantity': 2340, 'weightinGM': 250}\n",
      "Product UID: 1120795 => Product Details {'name': 'Denver', 'type': 'perfume', 'price': 100, 'quantity': 340, 'weightinGM': 250}\n",
      "Product UID: 1120796 => Product Details {'name': 'spark', 'type': 'perfume', 'price': 100, 'quantity': 740, 'weightinGM': 250}\n",
      "Product UID: 1120797 => Product Details {'name': 'Stylo', 'type': 'pen', 'price': 10, 'quantity': 1237, 'weightinGM': 30}\n",
      "Product UID: 1120798 => Product Details {'name': 'Nattaraj', 'type': 'pen', 'price': 10, 'quantity': 437, 'weightinGM': 20}\n",
      "Product UID: 1120799 => Product Details {'name': 'Apasra', 'type': 'pencil', 'price': 7, 'quantity': 640, 'weightinGM': 30}\n",
      "Product UID: 11207100 => Product Details {'name': 'HBO', 'type': 'pencil', 'price': 10, 'quantity': 130, 'weightinGM': 15}\n",
      "Product UID: 11207101 => Product Details {'name': 'Doom', 'type': 'pencil', 'price': 10, 'quantity': 200, 'weightinGM': 10}\n"
     ]
    }
   ],
   "source": [
    "f = open(\"record.json\",\"r\")\n",
    "txt= f.read()\n",
    "f.close()\n",
    "record = js.loads(txt)\n",
    "for k,v in record.items():\n",
    "    print(\"Product UID: {} => Product Details {}\".format(k,v))"
   ]
  },
  {
   "cell_type": "markdown",
   "id": "3d0ecaf9",
   "metadata": {},
   "source": [
    "# CHECKING THE SIZE OF DICTIONARY(CART)"
   ]
  },
  {
   "cell_type": "code",
   "execution_count": 11,
   "id": "20ab9f07",
   "metadata": {},
   "outputs": [
    {
     "data": {
      "text/plain": [
       "32"
      ]
     },
     "execution_count": 11,
     "metadata": {},
     "output_type": "execute_result"
    }
   ],
   "source": [
    "len(record)"
   ]
  },
  {
   "cell_type": "markdown",
   "id": "071fb402",
   "metadata": {},
   "source": [
    "#Reference of Dictionary\n",
    "\n",
    "record = {1120770:{\"name\":\"Kurkure\", \"type\":\"chips\",     \"price\":20, \"quantity\":500,  \"weightinGM\":40},\n",
    "          1120771:{\"name\":\"Perk\",    \"type\":\"chocolate\", \"price\":5,  \"quantity\":1000, \"weightinGM\":200},\n",
    "          1120772:{\"name\":\"Tatatea\", \"type\":\"tea\",       \"price\":50, \"quantity\":400,  \"weightinGM\":500},\n",
    "          1120773:{\"name\":\"RedLabel\",\"type\":\"tea\",       \"price\":90, \"quantity\":940,  \"weightinGM\":240},\n",
    "          1120774:{\"name\":\"Bourbon\", \"type\":\"Biscuit\",   \"price\":30, \"quantity\":450,  \"weightinGM\":10},\n",
    "          1120775:{\"name\":\"ParleG\",  \"type\":\"Biscuit\",   \"price\":10, \"quantity\":300,  \"weightinGM\":100},\n",
    "          1120776:{\"name\":\"Oreo\",    \"type\":\"Biscuit\",   \"price\":50, \"quantity\":230,  \"weightinGM\":150},\n",
    "          1120777:{\"name\":\"Hide&Seek\",\"type\":\"Biscuit\",  \"price\":30, \"quantity\":540,  \"weightinGM\":100},\n",
    "          1120778:{\"name\":\"HappyHappy\",\"type\":\"Biscuit\", \"price\":20, \"quantity\":140,  \"weightinGM\":50},\n",
    "          1120779:{\"name\":\"DairyMilkSilk\",\"type\":\"chocolate\",\"price\":100,\"quantity\":100,\"weightinGM\":500},\n",
    "          1120780:{\"name\":\"KitKat\",  \"type\":\"chocolate\", \"price\":40, \"quantity\":80,   \"weightinGM\":300},\n",
    "          1120781:{\"name\":\"5Star\",   \"type\":\"chocolate\", \"price\":20, \"quantity\":120,  \"weightinGM\":140},\n",
    "          1120782:{\"name\":\"Gems\",    \"type\":\"chocolate\", \"price\":10, \"quantity\":200,  \"weightinGM\":80},\n",
    "          1120783:{\"name\":\"balajiOnion\",\"type\":\"chips\",\"price\":30,\"quantity\":480,     \"weightinGM\":240},\n",
    "          1120784:{\"name\":\"laysSpices\",\"type\":\"chips\",\"price\":40,\"quantity\":340,      \"weightinGM\":140},\n",
    "          1120785:{\"name\":\"CocaCola\",\"type\":\"coldDrinks\",\"price\":50,\"quantity\":140,   \"weightinGM\":1000},\n",
    "          1120786:{\"name\":\"Maza\", \"type\":\"coldDrinks\",\"price\":20,\"quantity\":340,      \"weightinGM\":500},\n",
    "          1120787:{\"name\":\"Sprit\",\"type\":\"coldDrinks\",\"price\":30,\"quantity\":240,      \"weightinGM\":250},\n",
    "          1120788:{\"name\":\"pepssi\",  \"type\":\"coldDrinks\",\"price\":50,\"quantity\":440,   \"weightinGM\":200},\n",
    "          1120789:{\"name\":\"Colgate\", \"type\":\"paste\",\"price\":50,\"quantity\":640,        \"weightinGM\":140},\n",
    "          1120790:{\"name\":\"Pepsudent\",\"type\":\"paste\",\"price\":30,\"quantity\":220,       \"weightinGM\":140},\n",
    "          1120791:{\"name\":\"Wheel\",   \"type\":\"soap\", \"price\":5, \"quantity\":1200,       \"weightinGM\":100},\n",
    "          1120792:{\"name\":\"Vim\",     \"type\":\"soap\", \"price\":10, \"quantity\":600,       \"weightinGM\":250},\n",
    "          1120793:{\"name\":\"Dettol\",  \"type\":\"soap\",\"price\":20,\"quantity\":480,         \"weightinGM\":200},\n",
    "          1120794:{\"name\":\"Fogg\",    \"type\":\"perfume\",\"price\":120,\"quantity\":2340,    \"weightinGM\":250},\n",
    "          1120795:{\"name\":\"Denver\",  \"type\":\"perfume\",\"price\":100,\"quantity\":340,     \"weightinGM\":250},\n",
    "          1120796:{\"name\":\"spark\",   \"type\":\"perfume\",\"price\":100,\"quantity\":740,     \"weightinGM\":250},\n",
    "          1120797:{\"name\":\"Stylo\",   \"type\":\"pen\",\"price\":10,\"quantity\":1240,         \"weightinGM\":30},\n",
    "          1120798:{\"name\":\"Nattaraj\",\"type\":\"pen\",\"price\":10,\"quantity\":440,          \"weightinGM\":20},\n",
    "          1120799:{\"name\":\"Apasra\",  \"type\":\"pencil\",\"price\":7,\"quantity\":640,        \"weightinGM\":30},\n",
    "          11207100:{\"name\":\"HBO\",    \"type\":\"pencil\",\"price\":10,\"quantity\":120,       \"weightinGM\":15},\n",
    "          11207101:{\"name\":\"Doom\",    \"type\":\"pencil\",\"price\":10,\"quantity\":200,       \"weightinGM\":10}\n",
    "          \n",
    "}"
   ]
  },
  {
   "cell_type": "markdown",
   "id": "6cbca76f",
   "metadata": {},
   "source": [
    "# Thank You"
   ]
  }
 ],
 "metadata": {
  "kernelspec": {
   "display_name": "Python 3 (ipykernel)",
   "language": "python",
   "name": "python3"
  },
  "language_info": {
   "codemirror_mode": {
    "name": "ipython",
    "version": 3
   },
   "file_extension": ".py",
   "mimetype": "text/x-python",
   "name": "python",
   "nbconvert_exporter": "python",
   "pygments_lexer": "ipython3",
   "version": "3.9.1"
  }
 },
 "nbformat": 4,
 "nbformat_minor": 5
}
